{
 "cells": [
  {
   "cell_type": "code",
   "execution_count": 1,
   "metadata": {
    "collapsed": true
   },
   "outputs": [],
   "source": [
    "import pandas as pd\n",
    "import numpy as np"
   ]
  },
  {
   "cell_type": "code",
   "execution_count": 2,
   "metadata": {
    "collapsed": false
   },
   "outputs": [],
   "source": [
    "areas = ['City of London', 'Barking and Dagenham', 'Barnet', 'Bexley', 'Brent', 'Bromley', 'Camden', 'Croydon', 'Ealing', 'Enfield', 'Greenwich', 'Hackney', 'Hammersmith and Fulham', 'Haringey', 'Harrow', 'Havering', 'Hillingdon', 'Hounslow', 'Islington', 'Kensington and Chelsea', 'Kingston upon Thames', 'Lambeth', 'Lewisham', 'Merton', 'Newham', 'Redbridge', 'Richmond upon Thames', 'Southwark', 'Sutton', 'Tower Hamlets', 'Waltham Forest', 'Wandsworth', 'Westminster']"
   ]
  },
  {
   "cell_type": "markdown",
   "metadata": {
    "collapsed": false
   },
   "source": [
    "##  Average Income"
   ]
  },
  {
   "cell_type": "code",
   "execution_count": 13,
   "metadata": {
    "collapsed": false
   },
   "outputs": [
    {
     "data": {
      "text/plain": "          Code                  Area  Year Median_annual_earning\n0    E09000001        City of London  2011                 54381\n1    E09000002  Barking and Dagenham  2011                 28201\n2    E09000003                Barnet  2011                 30237\n3    E09000004                Bexley  2011                 28638\n4    E09000005                 Brent  2011                 26772\n..         ...                   ...   ...                   ...\n226  E09000029                Sutton  2017                 27945\n227  E09000030         Tower Hamlets  2017                 49369\n228  E09000031        Waltham Forest  2017                 28284\n229  E09000032            Wandsworth  2017                 33137\n230  E09000033           Westminster  2017                 42152\n\n[231 rows x 4 columns]",
      "text/html": "<div>\n<style scoped>\n    .dataframe tbody tr th:only-of-type {\n        vertical-align: middle;\n    }\n\n    .dataframe tbody tr th {\n        vertical-align: top;\n    }\n\n    .dataframe thead th {\n        text-align: right;\n    }\n</style>\n<table border=\"1\" class=\"dataframe\">\n  <thead>\n    <tr style=\"text-align: right;\">\n      <th></th>\n      <th>Code</th>\n      <th>Area</th>\n      <th>Year</th>\n      <th>Median_annual_earning</th>\n    </tr>\n  </thead>\n  <tbody>\n    <tr>\n      <th>0</th>\n      <td>E09000001</td>\n      <td>City of London</td>\n      <td>2011</td>\n      <td>54381</td>\n    </tr>\n    <tr>\n      <th>1</th>\n      <td>E09000002</td>\n      <td>Barking and Dagenham</td>\n      <td>2011</td>\n      <td>28201</td>\n    </tr>\n    <tr>\n      <th>2</th>\n      <td>E09000003</td>\n      <td>Barnet</td>\n      <td>2011</td>\n      <td>30237</td>\n    </tr>\n    <tr>\n      <th>3</th>\n      <td>E09000004</td>\n      <td>Bexley</td>\n      <td>2011</td>\n      <td>28638</td>\n    </tr>\n    <tr>\n      <th>4</th>\n      <td>E09000005</td>\n      <td>Brent</td>\n      <td>2011</td>\n      <td>26772</td>\n    </tr>\n    <tr>\n      <th>...</th>\n      <td>...</td>\n      <td>...</td>\n      <td>...</td>\n      <td>...</td>\n    </tr>\n    <tr>\n      <th>226</th>\n      <td>E09000029</td>\n      <td>Sutton</td>\n      <td>2017</td>\n      <td>27945</td>\n    </tr>\n    <tr>\n      <th>227</th>\n      <td>E09000030</td>\n      <td>Tower Hamlets</td>\n      <td>2017</td>\n      <td>49369</td>\n    </tr>\n    <tr>\n      <th>228</th>\n      <td>E09000031</td>\n      <td>Waltham Forest</td>\n      <td>2017</td>\n      <td>28284</td>\n    </tr>\n    <tr>\n      <th>229</th>\n      <td>E09000032</td>\n      <td>Wandsworth</td>\n      <td>2017</td>\n      <td>33137</td>\n    </tr>\n    <tr>\n      <th>230</th>\n      <td>E09000033</td>\n      <td>Westminster</td>\n      <td>2017</td>\n      <td>42152</td>\n    </tr>\n  </tbody>\n</table>\n<p>231 rows × 4 columns</p>\n</div>"
     },
     "execution_count": 13,
     "metadata": {},
     "output_type": "execute_result"
    }
   ],
   "source": [
    "# first row is the title so we skip it\n",
    "median_gross_anual_earnings = pd.read_excel('data/income.xlsx', skiprows=1,  sheet_name= '5b')\n",
    "\n",
    "# Keep only london as a region\n",
    "median_gross_anual_earnings.drop(median_gross_anual_earnings[median_gross_anual_earnings['Region name '] != 'London'].index, inplace = True)\n",
    "\n",
    "# Delete columns not needed\n",
    "del median_gross_anual_earnings['Region code']\n",
    "del median_gross_anual_earnings['Region name ']\n",
    "\n",
    "# rename column\n",
    "median_gross_anual_earnings.rename(columns = {'Name': 'Area'}, inplace= True)\n",
    "\n",
    "# reset index\n",
    "median_gross_anual_earning = median_gross_anual_earnings.reset_index(drop = True)\n",
    "\n",
    "# save clean data\n",
    "median_gross_anual_earning = median_gross_anual_earning[['Code','Area',2011,2012,2013,2014,2015,2016,2017]]\n",
    "median_gross_anual_earning = pd.melt(median_gross_anual_earning, id_vars=['Code','Area'], var_name='Year', value_name='median_gross_anual_earning')\n",
    "\n",
    "median_gross_anual_earning.rename(columns = {'median_gross_anual_earning': 'Median_annual_earning' }, inplace= True)\n",
    "\n",
    "\n",
    "median_gross_anual_earning.to_csv('clean_data/median_gross_annual_earning.csv',index=False)\n",
    "median_gross_anual_earning"
   ]
  },
  {
   "cell_type": "code",
   "execution_count": null,
   "metadata": {},
   "outputs": [],
   "source": []
  },
  {
   "cell_type": "markdown",
   "metadata": {
    "collapsed": false
   },
   "source": [
    "## Average House Price"
   ]
  },
  {
   "cell_type": "code",
   "execution_count": 15,
   "metadata": {
    "collapsed": false
   },
   "outputs": [
    {
     "data": {
      "text/plain": "          Code                  Area  Year  Median_house_price\n0    E09000001        City of London  2011            465000.0\n1    E09000002  Barking and Dagenham  2011            170000.0\n2    E09000003                Barnet  2011            325000.0\n3    E09000004                Bexley  2011            215000.0\n4    E09000005                 Brent  2011            300000.0\n..         ...                   ...   ...                 ...\n226  E09000029                Sutton  2017            367000.0\n227  E09000030         Tower Hamlets  2017            490000.0\n228  E09000031        Waltham Forest  2017            445000.0\n229  E09000032            Wandsworth  2017            654000.0\n230  E09000033           Westminster  2017           1025000.0\n\n[231 rows x 4 columns]",
      "text/html": "<div>\n<style scoped>\n    .dataframe tbody tr th:only-of-type {\n        vertical-align: middle;\n    }\n\n    .dataframe tbody tr th {\n        vertical-align: top;\n    }\n\n    .dataframe thead th {\n        text-align: right;\n    }\n</style>\n<table border=\"1\" class=\"dataframe\">\n  <thead>\n    <tr style=\"text-align: right;\">\n      <th></th>\n      <th>Code</th>\n      <th>Area</th>\n      <th>Year</th>\n      <th>Median_house_price</th>\n    </tr>\n  </thead>\n  <tbody>\n    <tr>\n      <th>0</th>\n      <td>E09000001</td>\n      <td>City of London</td>\n      <td>2011</td>\n      <td>465000.0</td>\n    </tr>\n    <tr>\n      <th>1</th>\n      <td>E09000002</td>\n      <td>Barking and Dagenham</td>\n      <td>2011</td>\n      <td>170000.0</td>\n    </tr>\n    <tr>\n      <th>2</th>\n      <td>E09000003</td>\n      <td>Barnet</td>\n      <td>2011</td>\n      <td>325000.0</td>\n    </tr>\n    <tr>\n      <th>3</th>\n      <td>E09000004</td>\n      <td>Bexley</td>\n      <td>2011</td>\n      <td>215000.0</td>\n    </tr>\n    <tr>\n      <th>4</th>\n      <td>E09000005</td>\n      <td>Brent</td>\n      <td>2011</td>\n      <td>300000.0</td>\n    </tr>\n    <tr>\n      <th>...</th>\n      <td>...</td>\n      <td>...</td>\n      <td>...</td>\n      <td>...</td>\n    </tr>\n    <tr>\n      <th>226</th>\n      <td>E09000029</td>\n      <td>Sutton</td>\n      <td>2017</td>\n      <td>367000.0</td>\n    </tr>\n    <tr>\n      <th>227</th>\n      <td>E09000030</td>\n      <td>Tower Hamlets</td>\n      <td>2017</td>\n      <td>490000.0</td>\n    </tr>\n    <tr>\n      <th>228</th>\n      <td>E09000031</td>\n      <td>Waltham Forest</td>\n      <td>2017</td>\n      <td>445000.0</td>\n    </tr>\n    <tr>\n      <th>229</th>\n      <td>E09000032</td>\n      <td>Wandsworth</td>\n      <td>2017</td>\n      <td>654000.0</td>\n    </tr>\n    <tr>\n      <th>230</th>\n      <td>E09000033</td>\n      <td>Westminster</td>\n      <td>2017</td>\n      <td>1025000.0</td>\n    </tr>\n  </tbody>\n</table>\n<p>231 rows × 4 columns</p>\n</div>"
     },
     "execution_count": 15,
     "metadata": {},
     "output_type": "execute_result"
    }
   ],
   "source": [
    "house_price = pd.read_excel('data/house price.xls', sheet_name= 'Median') # Can be changed to Mean\n",
    "\n",
    "# For every year, apart from 1995, the house price is recorded 4 times a year: Mar, Jun, Sep, and Dec.\n",
    "# Because for 1995 only Dec is available, we will choose Dec as the month and remove all entries that don't have it.\n",
    "for label in house_price.columns[2:]:\n",
    "    #label format = Year Ending Jun 1996\n",
    "    lis = list(label.split(\" \"))\n",
    "    length = len(lis)\n",
    "\n",
    "    # if Month is not Dec, remove column\n",
    "    if lis[length -2] != 'Dec':\n",
    "        house_price = house_price.drop([label], axis = 1)\n",
    "\n",
    "    # Additionally, let's rename the column to be consistent, keeping only the year:\n",
    "    house_price.rename(columns = {label: lis[length -1]}, inplace= True)\n",
    "\n",
    "for area_london in house_price['Area']:\n",
    "    if area_london not in areas:\n",
    "        house_price = house_price[house_price['Area']!=area_london]\n",
    "\n",
    "#Drop rows with NaN: in this case they were empty rows\n",
    "house_price = house_price.dropna()\n",
    "# save clean data\n",
    "\n",
    "house_price = house_price[['Code','Area','2011','2012','2013','2014','2015','2016','2017']]\n",
    "house_price = pd.melt(house_price, id_vars=['Code','Area'], var_name='Year', value_name='median_house_price')\n",
    "\n",
    "house_price.rename(columns = {'median_house_price': 'Median_house_price' }, inplace= True)\n",
    "\n",
    "\n",
    "house_price.to_csv('clean_data/median_house_price.csv', index=False)\n",
    "house_price"
   ]
  },
  {
   "cell_type": "markdown",
   "metadata": {
    "collapsed": false
   },
   "source": [
    "## Personal Well-Being (Life-Satisfaction)"
   ]
  },
  {
   "cell_type": "code",
   "execution_count": 17,
   "metadata": {
    "collapsed": false
   },
   "outputs": [
    {
     "data": {
      "text/plain": "          Code                  Area  Year  Mean_life_satisfaction\n1    E09000002  Barking and Dagenham  2011                    7.05\n2    E09000003                Barnet  2011                    7.43\n3    E09000004                Bexley  2011                    7.42\n4    E09000005                 Brent  2011                    7.11\n5    E09000006               Bromley  2011                    7.50\n..         ...                   ...   ...                     ...\n226  E09000029                Sutton  2017                    7.91\n227  E09000030         Tower Hamlets  2017                    7.51\n228  E09000031        Waltham Forest  2017                    7.73\n229  E09000032            Wandsworth  2017                    7.64\n230  E09000033           Westminster  2017                    7.57\n\n[224 rows x 4 columns]",
      "text/html": "<div>\n<style scoped>\n    .dataframe tbody tr th:only-of-type {\n        vertical-align: middle;\n    }\n\n    .dataframe tbody tr th {\n        vertical-align: top;\n    }\n\n    .dataframe thead th {\n        text-align: right;\n    }\n</style>\n<table border=\"1\" class=\"dataframe\">\n  <thead>\n    <tr style=\"text-align: right;\">\n      <th></th>\n      <th>Code</th>\n      <th>Area</th>\n      <th>Year</th>\n      <th>Mean_life_satisfaction</th>\n    </tr>\n  </thead>\n  <tbody>\n    <tr>\n      <th>1</th>\n      <td>E09000002</td>\n      <td>Barking and Dagenham</td>\n      <td>2011</td>\n      <td>7.05</td>\n    </tr>\n    <tr>\n      <th>2</th>\n      <td>E09000003</td>\n      <td>Barnet</td>\n      <td>2011</td>\n      <td>7.43</td>\n    </tr>\n    <tr>\n      <th>3</th>\n      <td>E09000004</td>\n      <td>Bexley</td>\n      <td>2011</td>\n      <td>7.42</td>\n    </tr>\n    <tr>\n      <th>4</th>\n      <td>E09000005</td>\n      <td>Brent</td>\n      <td>2011</td>\n      <td>7.11</td>\n    </tr>\n    <tr>\n      <th>5</th>\n      <td>E09000006</td>\n      <td>Bromley</td>\n      <td>2011</td>\n      <td>7.50</td>\n    </tr>\n    <tr>\n      <th>...</th>\n      <td>...</td>\n      <td>...</td>\n      <td>...</td>\n      <td>...</td>\n    </tr>\n    <tr>\n      <th>226</th>\n      <td>E09000029</td>\n      <td>Sutton</td>\n      <td>2017</td>\n      <td>7.91</td>\n    </tr>\n    <tr>\n      <th>227</th>\n      <td>E09000030</td>\n      <td>Tower Hamlets</td>\n      <td>2017</td>\n      <td>7.51</td>\n    </tr>\n    <tr>\n      <th>228</th>\n      <td>E09000031</td>\n      <td>Waltham Forest</td>\n      <td>2017</td>\n      <td>7.73</td>\n    </tr>\n    <tr>\n      <th>229</th>\n      <td>E09000032</td>\n      <td>Wandsworth</td>\n      <td>2017</td>\n      <td>7.64</td>\n    </tr>\n    <tr>\n      <th>230</th>\n      <td>E09000033</td>\n      <td>Westminster</td>\n      <td>2017</td>\n      <td>7.57</td>\n    </tr>\n  </tbody>\n</table>\n<p>224 rows × 4 columns</p>\n</div>"
     },
     "execution_count": 17,
     "metadata": {},
     "output_type": "execute_result"
    }
   ],
   "source": [
    "personal_well_being = pd.read_excel('data/well-being.xlsx', skiprows=1, sheet_name= 'Summary - Mean Scores')\n",
    "\n",
    "# rename column by removing last 3 digits\n",
    "for label in personal_well_being.columns[2:]:\n",
    "    #print(label)\n",
    "    personal_well_being.rename(columns = {label: label[:-3]}, inplace= True)\n",
    "\n",
    "# Now, I know that the first 8 columns relate to Life Satisfaction, the rest relate to other Scores so let's filter it out. We select 10 because we have columns for code and area\n",
    "personal_well_being = personal_well_being.iloc[:, list(range(10))]\n",
    "\n",
    "# Now, fisrt row is empty, let's remove it\n",
    "personal_well_being = personal_well_being.drop([personal_well_being.index[0]])\n",
    "\n",
    "for area_london in personal_well_being['Area']:\n",
    "    if area_london not in areas:\n",
    "        personal_well_being = personal_well_being[personal_well_being['Area'] != area_london]\n",
    "\n",
    "# Now, last rows have only NaN , let's remove them\n",
    "personal_well_being = personal_well_being.drop([personal_well_being.index[33], personal_well_being.index[34], personal_well_being.index[35]])\n",
    "\n",
    "# save clean data\n",
    "personal_well_being = personal_well_being.replace('x',np.nan)\n",
    "personal_well_being = personal_well_being[['Code','Area','2011','2012','2013','2014','2015','2016','2017']]\n",
    "personal_well_being = pd.melt(personal_well_being, id_vars=['Code','Area'], var_name='Year', value_name='personal_well_being')\n",
    "personal_well_being.dropna(inplace=True)\n",
    "\n",
    "personal_well_being.rename(columns = {'personal_well_being': 'Mean_life_satisfaction' }, inplace= True)\n",
    "\n",
    "personal_well_being.to_csv('clean_data/personal_well_being.csv', index=False)\n",
    "\n",
    "personal_well_being"
   ]
  },
  {
   "cell_type": "code",
   "execution_count": null,
   "metadata": {
    "collapsed": false
   },
   "outputs": [],
   "source": []
  }
 ],
 "metadata": {
  "kernelspec": {
   "display_name": "Python 3",
   "language": "python",
   "name": "python3"
  },
  "language_info": {
   "codemirror_mode": {
    "name": "ipython",
    "version": 3
   },
   "file_extension": ".py",
   "mimetype": "text/x-python",
   "name": "python",
   "nbconvert_exporter": "python",
   "pygments_lexer": "ipython3",
   "version": "3.10.9"
  }
 },
 "nbformat": 4,
 "nbformat_minor": 0
}
